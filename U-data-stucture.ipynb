{
 "cells": [
  {
   "cell_type": "code",
   "execution_count": null,
   "metadata": {},
   "outputs": [],
   "source": [
    "items = [\"tophat\", \"monocle\"]"
   ]
  },
  {
   "cell_type": "code",
   "execution_count": null,
   "metadata": {},
   "outputs": [],
   "source": [
    "rank = {\"tophat\": 2, \"bowtie\" : 4, \"monocle\" : 5}\n",
    "for k,v in rank.items():\n",
    "    print(k,v)"
   ]
  },
  {
   "cell_type": "code",
   "execution_count": null,
   "metadata": {},
   "outputs": [],
   "source": [
    "classy = 0\n",
    "for stri in items:\n",
    "    for key in rank.keys():\n",
    "        if stri == key:\n",
    "            classy += rank[key]\n",
    "classy"
   ]
  },
  {
   "cell_type": "code",
   "execution_count": null,
   "metadata": {},
   "outputs": [],
   "source": [
    "rank.keys()"
   ]
  },
  {
   "cell_type": "code",
   "execution_count": null,
   "metadata": {},
   "outputs": [],
   "source": [
    "rank[key]"
   ]
  },
  {
   "cell_type": "code",
   "execution_count": null,
   "metadata": {},
   "outputs": [],
   "source": [
    "\"\"\"You can use this class to represent how classy someone\n",
    "or something is.\n",
    "\"Classy\" is interchangable with \"fancy\".\n",
    "If you add fancy-looking items, you will increase\n",
    "your \"classiness\".\n",
    "Create a function in \"Classy\" that takes a string as\n",
    "input and adds it to the \"items\" list.\n",
    "Another method should calculate the \"classiness\"\n",
    "value based on the items.\n",
    "The following items have classiness points associated\n",
    "with them:\n",
    "\"tophat\" = 2\n",
    "\"bowtie\" = 4\n",
    "\"monocle\" = 5\n",
    "Everything else has 0 points.\n",
    "Use the test cases below to guide you!\"\"\"\n",
    "\n",
    "class Classy(object):\n",
    "    def __init__(self):\n",
    "        self.items = []\n",
    "#         self.string = string\n",
    "        self.rank = {\"tophat\": 2, \"bowtie\" : 4, \"monocle\" : 5}\n",
    "    def addItem(self, string):\n",
    "        self.items.append(string)\n",
    "    def getClassiness(self):\n",
    "        classy = 0\n",
    "        for stri in self.items:\n",
    "            for key in self.rank.keys():\n",
    "                if stri == key:\n",
    "                    classy += rank[key]\n",
    "        return classy\n",
    "# Test cases\n",
    "me = Classy()\n",
    "\n",
    "# Should be 0\n",
    "print me.getClassiness()\n",
    "\n",
    "me.addItem(\"tophat\")\n",
    "# Should be 2\n",
    "print me.getClassiness()\n",
    "\n",
    "me.addItem(\"bowtie\")\n",
    "me.addItem(\"jacket\")\n",
    "me.addItem(\"monocle\")\n",
    "# Should be 11\n",
    "print me.getClassiness()\n",
    "\n",
    "me.addItem(\"bowtie\")\n",
    "# Should be 15\n",
    "print me.getClassiness()"
   ]
  },
  {
   "cell_type": "code",
   "execution_count": null,
   "metadata": {},
   "outputs": [],
   "source": [
    "def show_excitement(text):\n",
    "    # Your code goes here!\n",
    "    string = text + ' '\n",
    "    string = 5 * string\n",
    "    return string\n",
    "\n",
    "print show_excitement('I am super excited for this course!')"
   ]
  },
  {
   "cell_type": "code",
   "execution_count": null,
   "metadata": {},
   "outputs": [],
   "source": [
    "rank = {\"tophat\": 2, \"bowtie\" : 4, \"monocle\" : 5}\n",
    "for k,v in rank.items():\n",
    "    print(k,v)"
   ]
  },
  {
   "cell_type": "code",
   "execution_count": null,
   "metadata": {},
   "outputs": [],
   "source": [
    "\"\"\"input manatees: a list of \"manatees\", where one manatee is represented by a dictionary\n",
    "a single manatee has properties like \"name\", \"age\", et cetera\n",
    "n = the number of elements in \"manatees\"\n",
    "m = the number of properties per \"manatee\" (i.e. the number of keys in a manatee dictionary)\"\"\"\n",
    "\n",
    "def example1(manatees):\n",
    "    for manatee in manatees:\n",
    "        print manatee['name']\n",
    "\n",
    "def example2(manatees):\n",
    "    print manatees[0]['name']\n",
    "    print manatees[0]['age']\n",
    "\n",
    "def example3(manatees):\n",
    "    for manatee in manatees:\n",
    "        for manatee_property in manatee:\n",
    "            print manatee_property, \": \", manatee[manatee_property]\n",
    "\n",
    "def example4(manatees):\n",
    "    oldest_manatee = \"No manatees here!\"\n",
    "    for manatee1 in manatees:\n",
    "        for manatee2 in manatees:\n",
    "            if manatee1['age'] < manatee2['age']:\n",
    "                oldest_manatee = manatee2['name']\n",
    "            else:\n",
    "                oldest_manatee = manatee1['name']\n",
    "    print oldest_manatee"
   ]
  },
  {
   "cell_type": "code",
   "execution_count": null,
   "metadata": {},
   "outputs": [],
   "source": [
    "\"\"\"The LinkedList code from before is provided below.\n",
    "Add three functions to the LinkedList.\n",
    "\"get_position\" returns the element at a certain position.\n",
    "The \"insert\" function will add an element to a particular\n",
    "spot in the list.\n",
    "\"delete\" will delete the first element with that\n",
    "particular value.\n",
    "Then, use \"Test Run\" and \"Submit\" to run the test cases\n",
    "at the bottom.\"\"\"\n",
    "\n",
    "class Element(object):\n",
    "    def __init__(self, value):\n",
    "        self.value = value\n",
    "        self.next = None\n",
    "        \n",
    "class LinkedList(object):\n",
    "    def __init__(self, head=None):\n",
    "        self.head = head\n",
    "    \n",
    "#     def printList(self): \n",
    "#         temp = self.head \n",
    "#         while (temp): \n",
    "#             print (temp.data) \n",
    "#             temp = temp.next\n",
    "            \n",
    "    def append(self, new_element):\n",
    "        current = self.head\n",
    "        if self.head:\n",
    "            while current.next:\n",
    "                current = current.next\n",
    "            current.next = new_element\n",
    "        else:\n",
    "            self.head = new_element\n",
    "            \n",
    "    def get_position(self, position):\n",
    "        \"\"\"Get an element from a particular position.\n",
    "        Assume the first position is \"1\".\n",
    "        Return \"None\" if position is not in the list.\"\"\"\n",
    "        if position == True:\n",
    "            return \n",
    "        return None\n",
    "    \n",
    "    def insert(self, new_element, position):\n",
    "        \"\"\"Insert a new node at the given position.\n",
    "        Assume the first position is \"1\".\n",
    "        Inserting at position 3 means between\n",
    "        the 2nd and 3rd elements.\"\"\"\n",
    "        pass\n",
    "    \n",
    "    def delete(self, value):\n",
    "        \"\"\"Delete the first node with a given value.\"\"\"\n",
    "        pass"
   ]
  },
  {
   "cell_type": "code",
   "execution_count": null,
   "metadata": {},
   "outputs": [],
   "source": [
    "# Test cases\n",
    "# Set up some Elements\n",
    "e1 = Element(1)\n",
    "e2 = Element(2)\n",
    "e3 = Element(3)\n",
    "e4 = Element(4)\n",
    "\n",
    "# Start setting up a LinkedList\n",
    "ll = LinkedList(e1)\n",
    "ll.printList"
   ]
  },
  {
   "cell_type": "code",
   "execution_count": null,
   "metadata": {},
   "outputs": [],
   "source": [
    "e1"
   ]
  },
  {
   "cell_type": "code",
   "execution_count": null,
   "metadata": {},
   "outputs": [],
   "source": [
    "# Test cases\n",
    "# Set up some Elements\n",
    "e1 = Element(1)\n",
    "e2 = Element(2)\n",
    "e3 = Element(3)\n",
    "e4 = Element(4)\n",
    "\n",
    "# Start setting up a LinkedList\n",
    "ll = LinkedList(e1)\n",
    "ll.append(e2)\n",
    "ll.append(e3)\n",
    "\n",
    "# Test get_position\n",
    "# Should print 3\n",
    "print ll.head.next.next.value\n",
    "# Should also print 3\n",
    "print ll.get_position(3).value\n",
    "\n",
    "# Test insert\n",
    "ll.insert(e4,3)\n",
    "# Should print 4 now\n",
    "print ll.get_position(3).value\n",
    "\n",
    "# Test delete\n",
    "ll.delete(1)\n",
    "# Should print 2 now\n",
    "print ll.get_position(1).value\n",
    "# Should print 4 now\n",
    "print ll.get_position(2).value\n",
    "# Should print 3 now\n",
    "print ll.get_position(3).value"
   ]
  },
  {
   "cell_type": "code",
   "execution_count": null,
   "metadata": {},
   "outputs": [],
   "source": [
    "print (ll.get_value(2))"
   ]
  },
  {
   "cell_type": "code",
   "execution_count": 4,
   "metadata": {},
   "outputs": [],
   "source": [
    "class LIST(object):\n",
    "    def __init__(self, data, Next_node = None):\n",
    "        self.data = data\n",
    "        self.next = Next_node\n",
    "        \n",
    "class Linked(object):\n",
    "    def __init__(self, head=None):\n",
    "        self.head = head\n",
    "    \n",
    "    def append(self, new_element):\n",
    "        current = self.head\n",
    "        if self.head:\n",
    "            while current.next:\n",
    "                current = current.next\n",
    "            current.next = new_element\n",
    "        else:\n",
    "            self.head = new_element\n",
    "    \n",
    "    def get_value(self, position):\n",
    "        # Store head node \n",
    "        temp = self.head #\n",
    "        count = 1\n",
    "        # Find previous node of the node to be deleted \n",
    "        while temp: \n",
    "            if count == position: \n",
    "                return temp.data\n",
    "            count += 1\n",
    "            temp = temp.next\n",
    "        return 'value not found'            \n",
    "    \n",
    "    def insert(self, data, index):\n",
    "        if index == 1:\n",
    "            new_node = LIST(data)\n",
    "            new_node.next = self.head\n",
    "            self.head = new_node\n",
    "        i = 1\n",
    "        n = self.head\n",
    "        while i < index-1 and n is not None:\n",
    "            n = n.next\n",
    "            i = i+1\n",
    "        if n is None:\n",
    "            print(\"Index out of bound\")\n",
    "        else: \n",
    "            new_node = LIST(data)\n",
    "            new_node.next = n.next\n",
    "            n.next = new_node\n",
    "        return 'ADDED'\n",
    "    # Utility function to print the linked LinkedList \n",
    "    def printList(self): \n",
    "        temp = self.head \n",
    "        while(temp): \n",
    "            print(temp.data), \n",
    "            temp = temp.next\n",
    "      \n",
    "    def delete(self, value):\n",
    "        current = self.head\n",
    "        previous = None\n",
    "        while current.data != value and current.next:\n",
    "            previous = current\n",
    "            current = current.next\n",
    "        if current.data == value:\n",
    "            if previous:\n",
    "                previous.next = current.next\n",
    "            else:\n",
    "                self.head = current.next"
   ]
  },
  {
   "cell_type": "code",
   "execution_count": 6,
   "metadata": {},
   "outputs": [
    {
     "name": "stdout",
     "output_type": "stream",
     "text": [
      "<__main__.LIST object at 0x7f970c3aa630>\n",
      "3\n",
      "Element at index is : 2\n"
     ]
    }
   ],
   "source": [
    "# Test cases\n",
    "# Set up some Elements\n",
    "e1 = LIST(1)\n",
    "e2 = LIST(2)\n",
    "e3 = LIST(3)\n",
    "e4 = LIST(4)\n",
    "\n",
    "# Start setting up a LinkedList\n",
    "ll = Linked()\n",
    "\n",
    "ll.append(e1)\n",
    "ll.append(e2)\n",
    "ll.append(e3)\n",
    "\n",
    "print (ll.head.next.next)\n",
    "# Should also print 3\n",
    "print (ll.get_value(3))\n",
    "\n",
    "n = 2\n",
    "print (\"Element at index is :\", ll.get_value(n)) "
   ]
  },
  {
   "cell_type": "code",
   "execution_count": null,
   "metadata": {},
   "outputs": [],
   "source": [
    "print (ll.head.next.next)\n",
    "# Should also print 3\n",
    "print (ll.get_value(3).data)"
   ]
  },
  {
   "cell_type": "code",
   "execution_count": null,
   "metadata": {},
   "outputs": [],
   "source": [
    "ll.insert(e4,3)"
   ]
  },
  {
   "cell_type": "code",
   "execution_count": null,
   "metadata": {},
   "outputs": [],
   "source": [
    "n = 3\n",
    "print (\"Element at index  is :\", ll.get_value(n).data) "
   ]
  },
  {
   "cell_type": "code",
   "execution_count": null,
   "metadata": {},
   "outputs": [],
   "source": [
    "ll.delete(1)"
   ]
  },
  {
   "cell_type": "code",
   "execution_count": null,
   "metadata": {},
   "outputs": [],
   "source": [
    "n = 1\n",
    "print (\"Element at index  is :\", ll.get_value(n)) "
   ]
  },
  {
   "cell_type": "code",
   "execution_count": null,
   "metadata": {},
   "outputs": [],
   "source": [
    "# Should print 2 now\n",
    "print (ll.get_value(1))\n",
    "# Should print 4 now\n",
    "print (ll.get_value(2))\n",
    "# Should print 3 now\n",
    "print (ll.get_value(3))"
   ]
  },
  {
   "cell_type": "code",
   "execution_count": 7,
   "metadata": {},
   "outputs": [
    {
     "name": "stdout",
     "output_type": "stream",
     "text": [
      "['eat', 'sleep', 'code']\n",
      "['eat', 'sleep']\n"
     ]
    }
   ],
   "source": [
    "q = []\n",
    "\n",
    "q.append('eat')\n",
    "q.append('sleep')\n",
    "q.append('code')\n",
    "print(q)\n",
    "\n",
    "# Careful: This is slow!\n",
    "q.pop()\n",
    "print(q)"
   ]
  },
  {
   "cell_type": "code",
   "execution_count": 8,
   "metadata": {},
   "outputs": [
    {
     "name": "stdout",
     "output_type": "stream",
     "text": [
      "deque(['eat', 'sleep', 'code'])\n",
      "deque(['sleep', 'code'])\n"
     ]
    }
   ],
   "source": [
    "\n",
    "from collections import deque\n",
    "q = deque()\n",
    "\n",
    "q.append('eat')\n",
    "q.append('sleep')\n",
    "q.append('code')\n",
    "\n",
    "print(q)\n",
    "\n",
    "q.popleft()\n",
    "print(q)"
   ]
  },
  {
   "cell_type": "code",
   "execution_count": null,
   "metadata": {},
   "outputs": [],
   "source": []
  }
 ],
 "metadata": {
  "kernelspec": {
   "display_name": "Python 3",
   "language": "python",
   "name": "python3"
  },
  "language_info": {
   "codemirror_mode": {
    "name": "ipython",
    "version": 3
   },
   "file_extension": ".py",
   "mimetype": "text/x-python",
   "name": "python",
   "nbconvert_exporter": "python",
   "pygments_lexer": "ipython3",
   "version": "3.7.3"
  }
 },
 "nbformat": 4,
 "nbformat_minor": 2
}
